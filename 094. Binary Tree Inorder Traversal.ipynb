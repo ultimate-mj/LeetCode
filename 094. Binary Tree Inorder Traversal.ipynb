{
 "cells": [
  {
   "cell_type": "markdown",
   "id": "36c45855",
   "metadata": {},
   "source": [
    "# 94. Binary Tree Inorder Traversal\n",
    "\n",
    "## Question\n",
    "\n",
    "Given the root of a binary tree, return the inorder traversal of its nodes' values."
   ]
  },
  {
   "cell_type": "markdown",
   "id": "04942ac8",
   "metadata": {},
   "source": [
    "## My Solution.\n",
    "`Runtime 22ms` `Memory 13.5MB`\n",
    "\n",
    "- refer to \"structures/trees/programmers/20, 21. Binary Search Trees\""
   ]
  },
  {
   "cell_type": "code",
   "execution_count": 7,
   "id": "e1b1bbd0",
   "metadata": {},
   "outputs": [],
   "source": [
    "# Definition for a binary tree node.\n",
    "# class TreeNode:\n",
    "#     def __init__(self, val=0, left=None, right=None):\n",
    "#         self.val = val\n",
    "#         self.left = left\n",
    "#         self.right = right\n",
    "\n",
    "class Solution(object):\n",
    "    def inorderTraversal(self, root):\n",
    "        output = []\n",
    "        if root:  # 이게 꼭 있어야 함!!\n",
    "            if root.left:\n",
    "                output += self.inorderTraversal(root.left)\n",
    "                \n",
    "            output.append(root.val)\n",
    "\n",
    "            if root.right:\n",
    "                output += self.inorderTraversal(root.right)\n",
    "        return output"
   ]
  },
  {
   "cell_type": "markdown",
   "id": "8eda85e8",
   "metadata": {},
   "source": [
    "Question: Can we use BFS algorithm?"
   ]
  },
  {
   "cell_type": "code",
   "execution_count": null,
   "id": "0d511ddc",
   "metadata": {},
   "outputs": [],
   "source": []
  }
 ],
 "metadata": {
  "kernelspec": {
   "display_name": "Python 3 (ipykernel)",
   "language": "python",
   "name": "python3"
  },
  "language_info": {
   "codemirror_mode": {
    "name": "ipython",
    "version": 3
   },
   "file_extension": ".py",
   "mimetype": "text/x-python",
   "name": "python",
   "nbconvert_exporter": "python",
   "pygments_lexer": "ipython3",
   "version": "3.9.7"
  }
 },
 "nbformat": 4,
 "nbformat_minor": 5
}
