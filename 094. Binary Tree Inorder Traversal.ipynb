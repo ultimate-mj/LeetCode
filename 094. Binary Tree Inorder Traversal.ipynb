{
 "cells": [
  {
   "cell_type": "markdown",
   "id": "36c45855",
   "metadata": {},
   "source": [
    "# 94. Binary Tree Inorder Traversal\n",
    "\n",
    "## Question\n",
    "\n",
    "Given the root of a binary tree, return the inorder traversal of its nodes' values."
   ]
  },
  {
   "cell_type": "markdown",
   "id": "04942ac8",
   "metadata": {},
   "source": [
    "## My Solution.\n",
    "`Runtime 22ms` `Memory 13.5MB`\n",
    "\n",
    "- refer to `structures/trees/programmers/20, 21. Binary Search Trees`\n",
    "- use in-order traversal"
   ]
  },
  {
   "cell_type": "code",
   "execution_count": 7,
   "id": "e1b1bbd0",
   "metadata": {},
   "outputs": [],
   "source": [
    "# Definition for a binary tree node.\n",
    "# class TreeNode:\n",
    "#     def __init__(self, val=0, left=None, right=None):\n",
    "#         self.val = val\n",
    "#         self.left = left\n",
    "#         self.right = right\n",
    "\n",
    "class Solution(object):\n",
    "    def inorderTraversal(self, root):\n",
    "        output = []\n",
    "        if root:  # 이게 꼭 있어야 함!!\n",
    "            if root.left:  #이건 없어도 됨!\n",
    "                output += self.inorderTraversal(root.left)\n",
    "            output.append(root.val)\n",
    "            if root.right:  #얘도 없어도 됨!\n",
    "                output += self.inorderTraversal(root.right)\n",
    "        return output"
   ]
  },
  {
   "cell_type": "code",
   "execution_count": null,
   "id": "64feb148",
   "metadata": {},
   "outputs": [],
   "source": [
    "class Solution(object):\n",
    "    def inorderTraversal(self, root):\n",
    "        output = []\n",
    "        if root is not None:\n",
    "            output += self.inorderTraversal(output.left)\n",
    "            output.append(root.val)\n",
    "            output += self.inorderTraversal(output.right)\n",
    "        return result"
   ]
  },
  {
   "cell_type": "markdown",
   "id": "21a6afb9",
   "metadata": {},
   "source": [
    "- Here, we have to add the result to array `output` each time"
   ]
  },
  {
   "cell_type": "markdown",
   "id": "c385a006",
   "metadata": {},
   "source": [
    "## Other's Solution 1.\n",
    "\n",
    "Note:\n",
    "- You don't need `if node.left` condition\n",
    "- Define another function `dfs`\n",
    "    - Then, you don't need to add the result to array `result` every time\n",
    "    - That is, you don't do `result += dfs(node.left)`\n",
    "    - Because `result = []` is outside the functon"
   ]
  },
  {
   "cell_type": "code",
   "execution_count": 4,
   "id": "fee8ae07",
   "metadata": {},
   "outputs": [],
   "source": [
    "class Solution(object):\n",
    "    def inorderTraversal(self, root):\n",
    "        result = []\n",
    "        def dfs(node):\n",
    "            if node is not None:\n",
    "                dfs(node.left)\n",
    "                result.append(node.val)\n",
    "                dfs(node.right)\n",
    "        dfs(root)\n",
    "        return result"
   ]
  },
  {
   "cell_type": "markdown",
   "id": "c07e46d9",
   "metadata": {},
   "source": [
    "## Other's Solution 2.\n",
    "\n",
    "`Runtime 18ms` `Memory 13.6MB`\n",
    "\n",
    "Iterative solution\n",
    "- use `stack` (LIFO)"
   ]
  },
  {
   "cell_type": "code",
   "execution_count": 5,
   "id": "530661d6",
   "metadata": {},
   "outputs": [],
   "source": [
    "def inorderTraversal(self, root):\n",
    "    stack = [root]\n",
    "    res = []\n",
    "    while stack:\n",
    "        node = stack.pop()\n",
    "        if node:\n",
    "            stack.append(node.right)\n",
    "            stack.append(node)\n",
    "            stack.append(node.left)\n",
    "        else:\n",
    "            if stack:\n",
    "                node = stack.pop()\n",
    "                res.append(node.val)\n",
    "    return res"
   ]
  },
  {
   "cell_type": "markdown",
   "id": "7668eaab",
   "metadata": {},
   "source": [
    "-----------\n",
    "\n",
    "## Useful Concepts\n",
    "\n",
    "### Binary Tree Traversal\n",
    "\n",
    "`structures/trees/programmers/18, 19. Binary Trees`\n",
    "\n",
    "1. Preorder (전위순회)\n",
    ": Node -> left subtree -> right subtree\n",
    "\n",
    "\n",
    "2. Inorder traversal (중위순회)\n",
    ": Left subtree -> node -> right subtree\n",
    "\n",
    "\n",
    "3. Postorder traversal (후위순회)\n",
    ": Left subtree -> right subtree -> node\n",
    "\n",
    "\n",
    "4. Level-order traversal = Breadth first traversal \n",
    ": You go down the tree by the level"
   ]
  },
  {
   "cell_type": "code",
   "execution_count": null,
   "id": "d3dd802a",
   "metadata": {},
   "outputs": [],
   "source": []
  }
 ],
 "metadata": {
  "kernelspec": {
   "display_name": "Python 3 (ipykernel)",
   "language": "python",
   "name": "python3"
  },
  "language_info": {
   "codemirror_mode": {
    "name": "ipython",
    "version": 3
   },
   "file_extension": ".py",
   "mimetype": "text/x-python",
   "name": "python",
   "nbconvert_exporter": "python",
   "pygments_lexer": "ipython3",
   "version": "3.9.7"
  }
 },
 "nbformat": 4,
 "nbformat_minor": 5
}
