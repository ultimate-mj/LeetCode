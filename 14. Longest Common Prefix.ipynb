{
 "cells": [
  {
   "cell_type": "markdown",
   "id": "07796b5b",
   "metadata": {},
   "source": [
    "# 14. Longest Common Prefix"
   ]
  },
  {
   "cell_type": "markdown",
   "id": "ef60910b",
   "metadata": {},
   "source": [
    "Write a function to find the longest common prefix string amongst an array of strings.\n",
    "\n",
    "If there is no common prefix, return an empty string \"\".\n",
    "\n",
    "### Example 1:\n",
    "\n",
    "Input: strs = [\"flower\",\"flow\",\"flight\"]\n",
    "\n",
    "Output: \"fl\""
   ]
  },
  {
   "cell_type": "code",
   "execution_count": 2,
   "id": "6caecf8a",
   "metadata": {},
   "outputs": [],
   "source": [
    "def longestCommonPrefix(strs):\n",
    "    strs.sort(key = lambda x: len(x))  #원소의 길이를 기준으로 sort\n",
    "    \n",
    "    if len(strs) == 0:\n",
    "        return \"\"\n",
    "    else:\n",
    "        for i in range(len(strs[0])):  #r가장 짧은 원소를 기준으로\n",
    "            for j in range(1, len(strs)):\n",
    "                if strs[0][i] != strs[j][i]:  #다른 알파벳이 있다면\n",
    "                    return strs[0][:i]  #다른 원소 전까지 return\n",
    "        return strs[0]"
   ]
  },
  {
   "cell_type": "code",
   "execution_count": 4,
   "id": "ddfef311",
   "metadata": {},
   "outputs": [
    {
     "data": {
      "text/plain": [
       "'fl'"
      ]
     },
     "execution_count": 4,
     "metadata": {},
     "output_type": "execute_result"
    }
   ],
   "source": [
    "strs = [\"flower\",\"flow\",\"flight\"]\n",
    "\n",
    "longestCommonPrefix(strs)"
   ]
  },
  {
   "cell_type": "markdown",
   "id": "bd1e8982",
   "metadata": {},
   "source": [
    "위의 풀이가 가능한 이유:\n",
    "- 'prefix'이기 때문: 앞에서부터 찾아가면 됨!"
   ]
  },
  {
   "cell_type": "code",
   "execution_count": null,
   "id": "5a0b8fa5",
   "metadata": {},
   "outputs": [],
   "source": []
  }
 ],
 "metadata": {
  "kernelspec": {
   "display_name": "Python 3 (ipykernel)",
   "language": "python",
   "name": "python3"
  },
  "language_info": {
   "codemirror_mode": {
    "name": "ipython",
    "version": 3
   },
   "file_extension": ".py",
   "mimetype": "text/x-python",
   "name": "python",
   "nbconvert_exporter": "python",
   "pygments_lexer": "ipython3",
   "version": "3.9.7"
  }
 },
 "nbformat": 4,
 "nbformat_minor": 5
}
