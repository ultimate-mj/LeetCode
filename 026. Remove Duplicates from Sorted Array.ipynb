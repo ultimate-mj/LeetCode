{
 "cells": [
  {
   "cell_type": "markdown",
   "id": "d4fa3125",
   "metadata": {},
   "source": [
    "# 26. Remove Duplicates from Sorted Array\n",
    "\n",
    "\n",
    "## Q.\n",
    "Given an integer array nums sorted in non-decreasing order, remove the duplicates in-place such that each unique element appears only once. The relative order of the elements should be kept the same.\n",
    "\n",
    "Since it is impossible to change the length of the array in some languages, you must instead have the result be placed in the first part of the array nums. More formally, if there are k elements after removing the duplicates, then the first k elements of nums should hold the final result. It does not matter what you leave beyond the first k elements.\n",
    "\n",
    "Return k after placing the final result in the first k slots of nums.\n",
    "\n",
    "Do not allocate extra space for another array. You must do this by modifying the input array in-place with O(1) extra memory.\n",
    "\n",
    "### Example 1.\n",
    "\n",
    "Input: nums = [1,1,2]\n",
    "\n",
    "Output: 2, nums = [1,2,_]\n",
    "\n",
    "### Example 2.\n",
    "\n",
    "Input: nums = [0,0,1,1,1,2,2,3,3,4]\n",
    "\n",
    "Output: 5, nums = [0,1,2,3,4,_,_,_,_,_]"
   ]
  },
  {
   "cell_type": "markdown",
   "id": "33f10188",
   "metadata": {},
   "source": [
    "## My Solution 1. index error\n",
    "\n",
    "idea:\n",
    "- delete duplicated values from 'nums' and count the number of them\n",
    "- make another list consisting 'count' times of '_' (count 개의 '_'이 있는 list 만들기)\n",
    "- add 'nums' and the list of '_'\n"
   ]
  },
  {
   "cell_type": "code",
   "execution_count": 67,
   "id": "d9c45f10",
   "metadata": {},
   "outputs": [],
   "source": [
    "def removeDuplicates(nums):\n",
    "    import numpy as np\n",
    "    count = 0\n",
    "    i = 0\n",
    "    while nums[i+1]:\n",
    "        if nums[i] == nums[i+1]:\n",
    "            del nums[i]\n",
    "            count += 1\n",
    "        else:\n",
    "            i += 1\n",
    "    duplicate = np.repeat('_', count).tolist()\n",
    "    result = nums + duplicate\n",
    "    return duplicate, result"
   ]
  },
  {
   "cell_type": "code",
   "execution_count": 68,
   "id": "7fb79000",
   "metadata": {},
   "outputs": [
    {
     "ename": "IndexError",
     "evalue": "list index out of range",
     "output_type": "error",
     "traceback": [
      "\u001b[1;31m---------------------------------------------------------------------------\u001b[0m",
      "\u001b[1;31mIndexError\u001b[0m                                Traceback (most recent call last)",
      "\u001b[1;32m~\\AppData\\Local\\Temp/ipykernel_17956/1882112691.py\u001b[0m in \u001b[0;36m<module>\u001b[1;34m\u001b[0m\n\u001b[0;32m      1\u001b[0m \u001b[0mnums\u001b[0m \u001b[1;33m=\u001b[0m \u001b[1;33m[\u001b[0m\u001b[1;36m1\u001b[0m\u001b[1;33m,\u001b[0m \u001b[1;36m1\u001b[0m\u001b[1;33m,\u001b[0m \u001b[1;36m2\u001b[0m\u001b[1;33m,\u001b[0m \u001b[1;36m4\u001b[0m\u001b[1;33m]\u001b[0m\u001b[1;33m\u001b[0m\u001b[1;33m\u001b[0m\u001b[0m\n\u001b[0;32m      2\u001b[0m \u001b[1;33m\u001b[0m\u001b[0m\n\u001b[1;32m----> 3\u001b[1;33m \u001b[0mremoveDuplicates\u001b[0m\u001b[1;33m(\u001b[0m\u001b[0mnums\u001b[0m\u001b[1;33m)\u001b[0m\u001b[1;33m\u001b[0m\u001b[1;33m\u001b[0m\u001b[0m\n\u001b[0m",
      "\u001b[1;32m~\\AppData\\Local\\Temp/ipykernel_17956/907664686.py\u001b[0m in \u001b[0;36mremoveDuplicates\u001b[1;34m(nums)\u001b[0m\n\u001b[0;32m      3\u001b[0m     \u001b[0mcount\u001b[0m \u001b[1;33m=\u001b[0m \u001b[1;36m0\u001b[0m\u001b[1;33m\u001b[0m\u001b[1;33m\u001b[0m\u001b[0m\n\u001b[0;32m      4\u001b[0m     \u001b[0mi\u001b[0m \u001b[1;33m=\u001b[0m \u001b[1;36m0\u001b[0m\u001b[1;33m\u001b[0m\u001b[1;33m\u001b[0m\u001b[0m\n\u001b[1;32m----> 5\u001b[1;33m     \u001b[1;32mwhile\u001b[0m \u001b[0mnums\u001b[0m\u001b[1;33m[\u001b[0m\u001b[0mi\u001b[0m\u001b[1;33m+\u001b[0m\u001b[1;36m1\u001b[0m\u001b[1;33m]\u001b[0m\u001b[1;33m:\u001b[0m\u001b[1;33m\u001b[0m\u001b[1;33m\u001b[0m\u001b[0m\n\u001b[0m\u001b[0;32m      6\u001b[0m         \u001b[1;32mif\u001b[0m \u001b[0mnums\u001b[0m\u001b[1;33m[\u001b[0m\u001b[0mi\u001b[0m\u001b[1;33m]\u001b[0m \u001b[1;33m==\u001b[0m \u001b[0mnums\u001b[0m\u001b[1;33m[\u001b[0m\u001b[0mi\u001b[0m\u001b[1;33m+\u001b[0m\u001b[1;36m1\u001b[0m\u001b[1;33m]\u001b[0m\u001b[1;33m:\u001b[0m\u001b[1;33m\u001b[0m\u001b[1;33m\u001b[0m\u001b[0m\n\u001b[0;32m      7\u001b[0m             \u001b[1;32mdel\u001b[0m \u001b[0mnums\u001b[0m\u001b[1;33m[\u001b[0m\u001b[0mi\u001b[0m\u001b[1;33m]\u001b[0m\u001b[1;33m\u001b[0m\u001b[1;33m\u001b[0m\u001b[0m\n",
      "\u001b[1;31mIndexError\u001b[0m: list index out of range"
     ]
    }
   ],
   "source": [
    "nums = [1, 1, 2, 4]\n",
    "\n",
    "removeDuplicates(nums)"
   ]
  },
  {
   "cell_type": "markdown",
   "id": "72c95b58",
   "metadata": {},
   "source": [
    "## My Solution 2. type error\n",
    "\n",
    "idea:\n",
    "- instead of deleting duplicated values from 'nums', make a new list 'list' so that it only has unique items\n",
    "- if the value is duplicated, don't add to the new list; but count the number of them to 'count'\n",
    "- make a new list 'duplicate' so that it has 'count' number of '_'\n",
    "- add 'list' and 'duplicate'"
   ]
  },
  {
   "cell_type": "code",
   "execution_count": 65,
   "id": "c7b0f4b0",
   "metadata": {},
   "outputs": [],
   "source": [
    "def removeDuplicates(nums):\n",
    "    import numpy as np\n",
    "    list = []\n",
    "    count = 0\n",
    "    for i in nums:\n",
    "        if i not in list:\n",
    "            list.append(i)\n",
    "        else:\n",
    "            count += 1\n",
    "    duplicate = np.repeat('_', count).tolist()\n",
    "    result = list + duplicate\n",
    "    return count, result"
   ]
  },
  {
   "cell_type": "code",
   "execution_count": 66,
   "id": "02f7ca4f",
   "metadata": {},
   "outputs": [
    {
     "data": {
      "text/plain": [
       "(2, [1, 2, 4, '_', '_'])"
      ]
     },
     "execution_count": 66,
     "metadata": {},
     "output_type": "execute_result"
    }
   ],
   "source": [
    "nums = [1, 1, 2, 4]\n",
    "\n",
    "removeDuplicates(nums)"
   ]
  },
  {
   "cell_type": "code",
   "execution_count": 103,
   "id": "e8e73eaf",
   "metadata": {},
   "outputs": [],
   "source": [
    "def removeDuplicates(nums):\n",
    "    import numpy as np\n",
    "    list = []\n",
    "    count = 0\n",
    "    for i in nums:\n",
    "        if i not in list:\n",
    "            list.append(i)\n",
    "        else:\n",
    "            count += 1\n",
    "    duplicate = np.repeat(0, count).tolist()\n",
    "    result = list + duplicate\n",
    "    print(count, result)\n",
    "    #print(count, ',','nums=',list)  \n",
    "    # print(count, 'nums= %s' %result)"
   ]
  },
  {
   "cell_type": "code",
   "execution_count": 104,
   "id": "75b5614d",
   "metadata": {},
   "outputs": [
    {
     "name": "stdout",
     "output_type": "stream",
     "text": [
      "2 [1, 2, 0, 0]\n"
     ]
    }
   ],
   "source": [
    "nums = [1, 1, 2]\n",
    "\n",
    "removeDuplicates(nums)"
   ]
  },
  {
   "cell_type": "code",
   "execution_count": 14,
   "id": "06c829c5",
   "metadata": {},
   "outputs": [
    {
     "ename": "TypeError",
     "evalue": "'<' not supported between instances of 'str' and 'int'",
     "output_type": "error",
     "traceback": [
      "\u001b[1;31m---------------------------------------------------------------------------\u001b[0m",
      "\u001b[1;31mTypeError\u001b[0m                                 Traceback (most recent call last)",
      "\u001b[1;32m~\\AppData\\Local\\Temp/ipykernel_17956/1954088692.py\u001b[0m in \u001b[0;36m<module>\u001b[1;34m\u001b[0m\n\u001b[0;32m      1\u001b[0m \u001b[0mb\u001b[0m \u001b[1;33m=\u001b[0m \u001b[1;33m[\u001b[0m\u001b[1;36m0\u001b[0m\u001b[1;33m,\u001b[0m \u001b[1;36m1\u001b[0m\u001b[1;33m,\u001b[0m \u001b[1;36m3\u001b[0m\u001b[1;33m,\u001b[0m \u001b[1;34m'j'\u001b[0m\u001b[1;33m]\u001b[0m\u001b[1;33m\u001b[0m\u001b[1;33m\u001b[0m\u001b[0m\n\u001b[1;32m----> 2\u001b[1;33m \u001b[0mb\u001b[0m\u001b[1;33m.\u001b[0m\u001b[0msort\u001b[0m\u001b[1;33m(\u001b[0m\u001b[1;33m)\u001b[0m\u001b[1;33m\u001b[0m\u001b[1;33m\u001b[0m\u001b[0m\n\u001b[0m",
      "\u001b[1;31mTypeError\u001b[0m: '<' not supported between instances of 'str' and 'int'"
     ]
    }
   ],
   "source": [
    "b = [0, 1, 3, 'j']\n",
    "b.sort()"
   ]
  },
  {
   "cell_type": "markdown",
   "id": "334f31e7",
   "metadata": {},
   "source": [
    "## Other's solution 1. Two pointers"
   ]
  },
  {
   "cell_type": "code",
   "execution_count": null,
   "id": "43c3a73d",
   "metadata": {},
   "outputs": [],
   "source": [
    "def removeDuplicates(nums):\n",
    "    if len(nums)==0:\n",
    "        return 0\n",
    "    \n",
    "    i = 0\n",
    "    for j in range(1, len(nums)):\n",
    "        if nums[i] != nums[j]:  #if not duplicated\n",
    "            i += 1 #move i\n",
    "            nums[i] = nums[j] #swap\n",
    "            \n",
    "    return i+1"
   ]
  },
  {
   "cell_type": "markdown",
   "id": "248a1a43",
   "metadata": {},
   "source": [
    "## 주영 Solution: slow fast\n",
    "\n",
    "힌트 3가지\n",
    "\n",
    "- left와 right가 다르면 left 자리에 right 값을 넣어주고 left index 하나 이동\n",
    "- left와 right가 같으면 right index 만 이동하고 left와 계속 비교\n",
    "\n",
    "```\n",
    "0 1   2   1 1 1  3   3 \n",
    "    left       right\n",
    "```\n",
    "\n",
    "```\n",
    "\n",
    "```\n",
    "\n"
   ]
  },
  {
   "cell_type": "code",
   "execution_count": 2,
   "id": "07bd7c26",
   "metadata": {},
   "outputs": [],
   "source": [
    "#while 문\n",
    "\n",
    "def removeDuplicates(self, nums):\n",
    "    left = 0\n",
    "    right = 1\n",
    "    while right < len(nums):\n",
    "        if nums[right] != nums[left]:\n",
    "            left += 1\n",
    "            nums[left] = nums[right]\n",
    "        right += 1  # 중복원소면 right 한 칸 이동\n",
    "    return left + 1"
   ]
  },
  {
   "cell_type": "code",
   "execution_count": 3,
   "id": "6efe8642",
   "metadata": {},
   "outputs": [],
   "source": [
    "#for 문\n",
    "\n",
    "def removeDuplicates(nums):\n",
    "    x = 1\n",
    "    for i in range(len(nums)-1):\n",
    "        if nums[i] != nums[i+1]:\n",
    "            nums[x] = nums[i+1]\n",
    "            x += 1\n",
    "    return (x)"
   ]
  },
  {
   "cell_type": "code",
   "execution_count": null,
   "id": "b2df0b42",
   "metadata": {},
   "outputs": [],
   "source": []
  }
 ],
 "metadata": {
  "kernelspec": {
   "display_name": "Python 3 (ipykernel)",
   "language": "python",
   "name": "python3"
  },
  "language_info": {
   "codemirror_mode": {
    "name": "ipython",
    "version": 3
   },
   "file_extension": ".py",
   "mimetype": "text/x-python",
   "name": "python",
   "nbconvert_exporter": "python",
   "pygments_lexer": "ipython3",
   "version": "3.9.7"
  }
 },
 "nbformat": 4,
 "nbformat_minor": 5
}
