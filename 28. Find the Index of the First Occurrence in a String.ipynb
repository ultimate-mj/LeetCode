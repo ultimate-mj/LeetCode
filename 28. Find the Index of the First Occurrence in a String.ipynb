{
 "cells": [
  {
   "cell_type": "markdown",
   "id": "c1d2bf51",
   "metadata": {},
   "source": [
    "# 28. Find the Index of the First Occurrence in a String\n",
    "\n",
    "## Question. \n",
    "Given two strings needle and haystack, return the index of the first occurrence of `needle` in `haystack`, or -1 if `needle` is not part of `haystack`"
   ]
  },
  {
   "cell_type": "markdown",
   "id": "6472cd63",
   "metadata": {},
   "source": [
    "### Example 1\n",
    "Input: haystack = \"sadbutsad\", needle = \"sad\"\n",
    "\n",
    "Output: 0\n",
    "\n",
    "### Example 2\n",
    "\n",
    "Input: haystack = \"leetcode\", needle = \"leeto\"\n",
    "\n",
    "Output: -1"
   ]
  },
  {
   "cell_type": "markdown",
   "id": "90738b32",
   "metadata": {},
   "source": [
    "## My solution 1.\n",
    "\n",
    "idea:\n",
    "- use `not in`"
   ]
  },
  {
   "cell_type": "code",
   "execution_count": 1,
   "id": "96109489",
   "metadata": {},
   "outputs": [],
   "source": [
    "def strStr(haystack, needle):\n",
    "    if needle not in haystack:\n",
    "        return -1\n",
    "    else:\n",
    "        for i in range(len(haystack)):\n",
    "            if haystack[i:i+len(needle)] == needle:\n",
    "                return i"
   ]
  },
  {
   "cell_type": "code",
   "execution_count": 2,
   "id": "8970a113",
   "metadata": {},
   "outputs": [
    {
     "data": {
      "text/plain": [
       "0"
      ]
     },
     "execution_count": 2,
     "metadata": {},
     "output_type": "execute_result"
    }
   ],
   "source": [
    "strStr(\"sadbutsad\", \"sad\")"
   ]
  }
 ],
 "metadata": {
  "kernelspec": {
   "display_name": "Python 3 (ipykernel)",
   "language": "python",
   "name": "python3"
  },
  "language_info": {
   "codemirror_mode": {
    "name": "ipython",
    "version": 3
   },
   "file_extension": ".py",
   "mimetype": "text/x-python",
   "name": "python",
   "nbconvert_exporter": "python",
   "pygments_lexer": "ipython3",
   "version": "3.9.7"
  }
 },
 "nbformat": 4,
 "nbformat_minor": 5
}
