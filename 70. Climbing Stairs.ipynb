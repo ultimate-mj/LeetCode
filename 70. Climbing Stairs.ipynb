{
 "cells": [
  {
   "cell_type": "markdown",
   "id": "0362c05a",
   "metadata": {},
   "source": [
    "# 70. Climbing Stairs\n",
    "\n",
    "## Question.\n",
    "\n",
    "You are climbing a staircase. It takes n steps to reach the top.\n",
    "\n",
    "Each time you can either climb 1 or 2 steps. In how many distinct ways can you climb to the top?\n",
    "\n",
    "## Example.\n",
    "\n",
    "Input: n = 2\n",
    "\n",
    "Output: 2\n",
    "\n",
    "Explanation: There are two ways to climb to the top.\n",
    "1. 1 step + 1 step\n",
    "2. 2 steps\n",
    "\n",
    "---\n",
    "\n",
    "Input: n = 3\n",
    "\n",
    "Output: 3\n",
    "\n",
    "Explanation: There are three ways to climb to the top.\n",
    "1. 1 step + 1 step + 1 step\n",
    "2. 1 step + 2 steps\n",
    "3. 2 steps + 1 step"
   ]
  },
  {
   "cell_type": "markdown",
   "id": "e3a1c4e1",
   "metadata": {},
   "source": [
    "## Solution.\n",
    "\n",
    "Think of this problem in a recursive way. \n",
    "\n",
    "```\n",
    "ways to climb `n` stairs =  ways to climb `n-1` stairs + ways to climb `n-2` stairs\n",
    "```\n",
    "\n",
    "But this exceeds the time limit.\n",
    "\n",
    "The time complexity is $O(2^n) = O(2^45)$ which is too large."
   ]
  },
  {
   "cell_type": "code",
   "execution_count": 11,
   "id": "0d6ee529",
   "metadata": {},
   "outputs": [],
   "source": [
    "def climbStairs(n):\n",
    "    if n<=2:\n",
    "        return n\n",
    "    else:\n",
    "        return climbStairs(n-1) + climbStairs(n-2)"
   ]
  },
  {
   "cell_type": "code",
   "execution_count": 12,
   "id": "fa27de11",
   "metadata": {},
   "outputs": [
    {
     "data": {
      "text/plain": [
       "5"
      ]
     },
     "execution_count": 12,
     "metadata": {},
     "output_type": "execute_result"
    }
   ],
   "source": [
    "climbStairs(4)"
   ]
  },
  {
   "cell_type": "markdown",
   "id": "551e986e",
   "metadata": {},
   "source": [
    "Alternatively, you can use iterations.\n",
    "\n",
    "- You can refer to the code in `structures/5.Recursion(2).md`"
   ]
  },
  {
   "cell_type": "code",
   "execution_count": 15,
   "id": "15dcbb07",
   "metadata": {},
   "outputs": [],
   "source": [
    "def climbStairs(n):\n",
    "    if n<=2:\n",
    "        return n\n",
    "    else:\n",
    "        i = 3\n",
    "        t0 = 1\n",
    "        t1 = 2\n",
    "        while i <= n:\n",
    "            t0, t1 = t1, t0 + t1\n",
    "            i += 1\n",
    "        return t1"
   ]
  },
  {
   "cell_type": "code",
   "execution_count": 18,
   "id": "0eb8b9b0",
   "metadata": {},
   "outputs": [
    {
     "data": {
      "text/plain": [
       "2"
      ]
     },
     "execution_count": 18,
     "metadata": {},
     "output_type": "execute_result"
    }
   ],
   "source": [
    "climbStairs(2)"
   ]
  }
 ],
 "metadata": {
  "kernelspec": {
   "display_name": "Python 3 (ipykernel)",
   "language": "python",
   "name": "python3"
  },
  "language_info": {
   "codemirror_mode": {
    "name": "ipython",
    "version": 3
   },
   "file_extension": ".py",
   "mimetype": "text/x-python",
   "name": "python",
   "nbconvert_exporter": "python",
   "pygments_lexer": "ipython3",
   "version": "3.9.7"
  }
 },
 "nbformat": 4,
 "nbformat_minor": 5
}
