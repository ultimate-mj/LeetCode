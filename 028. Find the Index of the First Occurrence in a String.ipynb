{
 "cells": [
  {
   "cell_type": "markdown",
   "id": "c1d2bf51",
   "metadata": {},
   "source": [
    "# 28. Find the Index of the First Occurrence in a String\n",
    "\n",
    "## Question. \n",
    "Given two strings needle and haystack, return the index of the first occurrence of `needle` in `haystack`, or -1 if `needle` is not part of `haystack`"
   ]
  },
  {
   "cell_type": "markdown",
   "id": "6472cd63",
   "metadata": {},
   "source": [
    "### Example 1\n",
    "Input: haystack = \"sadbutsad\", needle = \"sad\"\n",
    "\n",
    "Output: 0\n",
    "\n",
    "### Example 2\n",
    "\n",
    "Input: haystack = \"leetcode\", needle = \"leeto\"\n",
    "\n",
    "Output: -1"
   ]
  },
  {
   "cell_type": "markdown",
   "id": "90738b32",
   "metadata": {},
   "source": [
    "## My solution 1.\n",
    "\n",
    "idea:\n",
    "- use `not in`"
   ]
  },
  {
   "cell_type": "code",
   "execution_count": 1,
   "id": "96109489",
   "metadata": {},
   "outputs": [],
   "source": [
    "def strStr(haystack, needle):\n",
    "    if needle not in haystack:\n",
    "        return -1\n",
    "    else:\n",
    "        for i in range(len(haystack)):  \n",
    "        #you can change range to range(len(haystack) - len(needle) + 1)\n",
    "            if haystack[i:i+len(needle)] == needle:\n",
    "                return i"
   ]
  },
  {
   "cell_type": "code",
   "execution_count": 2,
   "id": "8970a113",
   "metadata": {},
   "outputs": [
    {
     "data": {
      "text/plain": [
       "0"
      ]
     },
     "execution_count": 2,
     "metadata": {},
     "output_type": "execute_result"
    }
   ],
   "source": [
    "strStr(\"sadbutsad\", \"sad\")"
   ]
  },
  {
   "cell_type": "markdown",
   "id": "d53750b1",
   "metadata": {},
   "source": [
    "## Other's solution 1.\n",
    "\n",
    "Time complexity is $O(n*h)$\n",
    "- n = size of needle\n",
    "- h = size of haystack"
   ]
  },
  {
   "cell_type": "code",
   "execution_count": null,
   "id": "d95e1eec",
   "metadata": {},
   "outputs": [],
   "source": [
    "def strstr(haystack, needle):\n",
    "    if needle not in haystack:\n",
    "        return -1\n",
    "    else:\n",
    "        for i in range(len(haystack)):\n",
    "            if haystack[i:i+len(needle)] == needle:\n",
    "                return i"
   ]
  },
  {
   "cell_type": "markdown",
   "id": "d24c8088",
   "metadata": {},
   "source": [
    "## Other's solution 2."
   ]
  },
  {
   "cell_type": "code",
   "execution_count": 1,
   "id": "86ba1e6b",
   "metadata": {},
   "outputs": [
    {
     "ename": "SyntaxError",
     "evalue": "'return' outside function (Temp/ipykernel_30236/1630409007.py, line 2)",
     "output_type": "error",
     "traceback": [
      "\u001b[1;36m  File \u001b[1;32m\"C:\\Users\\1\\AppData\\Local\\Temp/ipykernel_30236/1630409007.py\"\u001b[1;36m, line \u001b[1;32m2\u001b[0m\n\u001b[1;33m    return (haystack.index(needle))\u001b[0m\n\u001b[1;37m    ^\u001b[0m\n\u001b[1;31mSyntaxError\u001b[0m\u001b[1;31m:\u001b[0m 'return' outside function\n"
     ]
    }
   ],
   "source": [
    "if needle in haystack:\n",
    "    return (haystack.index(needle))  "
   ]
  },
  {
   "cell_type": "markdown",
   "id": "14cb2400",
   "metadata": {},
   "source": [
    "- index : 문자열/리스트에서 첫 번째 인덱스 추출"
   ]
  },
  {
   "cell_type": "markdown",
   "id": "a085ef38",
   "metadata": {},
   "source": [
    "## Other's solution 3.\n",
    "\n",
    "You can also use KMP algorithm to solve this problem"
   ]
  },
  {
   "cell_type": "code",
   "execution_count": null,
   "id": "66eb7944",
   "metadata": {},
   "outputs": [],
   "source": []
  }
 ],
 "metadata": {
  "kernelspec": {
   "display_name": "Python 3 (ipykernel)",
   "language": "python",
   "name": "python3"
  },
  "language_info": {
   "codemirror_mode": {
    "name": "ipython",
    "version": 3
   },
   "file_extension": ".py",
   "mimetype": "text/x-python",
   "name": "python",
   "nbconvert_exporter": "python",
   "pygments_lexer": "ipython3",
   "version": "3.9.7"
  }
 },
 "nbformat": 4,
 "nbformat_minor": 5
}
