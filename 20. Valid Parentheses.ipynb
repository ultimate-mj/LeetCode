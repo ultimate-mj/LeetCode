{
 "cells": [
  {
   "cell_type": "markdown",
   "id": "3c0dbebb",
   "metadata": {},
   "source": [
    "# 20. Valid Parentheses"
   ]
  },
  {
   "cell_type": "markdown",
   "id": "1973a0d5",
   "metadata": {},
   "source": [
    "Given a string s containing just the characters '(', ')', '{', '}', '[' and ']', determine if the input string is valid.\n",
    "\n",
    "An input string is valid if:\n",
    "\n",
    "- Open brackets must be closed by the same type of brackets.\n",
    "- Open brackets must be closed in the correct order.\n",
    "- Every close bracket has a corresponding open bracket of the same type.\n",
    "\n",
    "### Example 1.\n",
    "\n",
    "Input: s = \"()\"\n",
    "\n",
    "Output: true\n",
    "\n",
    "### Example 2.\n",
    "\n",
    "Input: s = \"()[]{}\"\n",
    "\n",
    "Output: true\n",
    "\n",
    "### Example 3.\n",
    "\n",
    "Input: s = \"(]\"\n",
    "\n",
    "Output: false\n"
   ]
  },
  {
   "cell_type": "markdown",
   "id": "6cab72ee",
   "metadata": {},
   "source": [
    "## My solution 1. Wrong answer\n",
    "\n",
    "point:\n",
    "- use dictionary\n",
    "\n",
    "reason of failure:\n",
    "- didn't consider the case where there are parentheses in parentheses like '({})'"
   ]
  },
  {
   "cell_type": "code",
   "execution_count": 71,
   "id": "502a5c42",
   "metadata": {},
   "outputs": [],
   "source": [
    "def isValid(s):\n",
    "    match = {')': '(', \n",
    "            '}': '{', \n",
    "            ']': '['}\n",
    "    for i in s:\n",
    "        if i not in match:\n",
    "            t = i\n",
    "        else:\n",
    "            if t == match[i]:\n",
    "                pass\n",
    "            else:\n",
    "                return False\n",
    "    return True"
   ]
  },
  {
   "cell_type": "code",
   "execution_count": 72,
   "id": "5957071f",
   "metadata": {},
   "outputs": [
    {
     "data": {
      "text/plain": [
       "True"
      ]
     },
     "execution_count": 72,
     "metadata": {},
     "output_type": "execute_result"
    }
   ],
   "source": [
    "isValid('()[]{}')"
   ]
  },
  {
   "cell_type": "code",
   "execution_count": 73,
   "id": "8f2eae1c",
   "metadata": {},
   "outputs": [
    {
     "data": {
      "text/plain": [
       "False"
      ]
     },
     "execution_count": 73,
     "metadata": {},
     "output_type": "execute_result"
    }
   ],
   "source": [
    "isValid('(]') "
   ]
  },
  {
   "cell_type": "code",
   "execution_count": 74,
   "id": "2f356398",
   "metadata": {},
   "outputs": [
    {
     "data": {
      "text/plain": [
       "False"
      ]
     },
     "execution_count": 74,
     "metadata": {},
     "output_type": "execute_result"
    }
   ],
   "source": [
    "isValid(\"{[]}\")  # Have to get True!!!"
   ]
  },
  {
   "cell_type": "markdown",
   "id": "7f6322f3",
   "metadata": {},
   "source": [
    "## My Solution 2.\n",
    "\n",
    "point: \n",
    "\n",
    "- use dictionary\n",
    "- use stack\n",
    "- consider the case where the stack is empty"
   ]
  },
  {
   "cell_type": "code",
   "execution_count": 75,
   "id": "6abc613d",
   "metadata": {},
   "outputs": [
    {
     "data": {
      "text/plain": [
       "dict_keys([')', '}', ']'])"
      ]
     },
     "execution_count": 75,
     "metadata": {},
     "output_type": "execute_result"
    }
   ],
   "source": [
    "match.keys()"
   ]
  },
  {
   "cell_type": "code",
   "execution_count": 79,
   "id": "6a7cea17",
   "metadata": {},
   "outputs": [],
   "source": [
    "def isValid(s):\n",
    "    match = {')': '(', \n",
    "            '}': '{', \n",
    "            ']': '['}\n",
    "    stack = []\n",
    "    for i in s:\n",
    "        if i not in match:\n",
    "            stack.append(i)\n",
    "        else:\n",
    "            if stack == []:\n",
    "                return False\n",
    "            a = stack.pop()\n",
    "            if a != match[i]:\n",
    "                return False\n",
    "    return stack == []"
   ]
  },
  {
   "cell_type": "code",
   "execution_count": 80,
   "id": "4c730332",
   "metadata": {},
   "outputs": [
    {
     "data": {
      "text/plain": [
       "True"
      ]
     },
     "execution_count": 80,
     "metadata": {},
     "output_type": "execute_result"
    }
   ],
   "source": [
    "isValid('()[]{}')"
   ]
  },
  {
   "cell_type": "code",
   "execution_count": 81,
   "id": "da8875d3",
   "metadata": {},
   "outputs": [
    {
     "data": {
      "text/plain": [
       "False"
      ]
     },
     "execution_count": 81,
     "metadata": {},
     "output_type": "execute_result"
    }
   ],
   "source": [
    "isValid('(]')"
   ]
  },
  {
   "cell_type": "code",
   "execution_count": 82,
   "id": "36b30bd9",
   "metadata": {},
   "outputs": [
    {
     "data": {
      "text/plain": [
       "True"
      ]
     },
     "execution_count": 82,
     "metadata": {},
     "output_type": "execute_result"
    }
   ],
   "source": [
    "isValid(\"{[]}\") "
   ]
  },
  {
   "cell_type": "code",
   "execution_count": null,
   "id": "5d057855",
   "metadata": {},
   "outputs": [],
   "source": []
  }
 ],
 "metadata": {
  "kernelspec": {
   "display_name": "Python 3 (ipykernel)",
   "language": "python",
   "name": "python3"
  },
  "language_info": {
   "codemirror_mode": {
    "name": "ipython",
    "version": 3
   },
   "file_extension": ".py",
   "mimetype": "text/x-python",
   "name": "python",
   "nbconvert_exporter": "python",
   "pygments_lexer": "ipython3",
   "version": "3.9.7"
  }
 },
 "nbformat": 4,
 "nbformat_minor": 5
}
