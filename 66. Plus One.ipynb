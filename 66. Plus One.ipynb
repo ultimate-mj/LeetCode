{
 "cells": [
  {
   "cell_type": "markdown",
   "id": "65fc0902",
   "metadata": {},
   "source": [
    "# 66. Plus One\n",
    "\n",
    "## Question\n",
    "\n",
    "You are given a large integer represented as an integer array digits, where each digits[i] is the ith digit of the integer. The digits are ordered from most significant to least significant in left-to-right order. The large integer does not contain any leading 0's.\n",
    "\n",
    "Increment the large integer by one and return the resulting array of digits.\n",
    "\n",
    "## Example\n",
    "\n",
    "Input: digits = [1,2,3]\n",
    "\n",
    "Output: [1,2,4]\n",
    "\n",
    "Explanation: The array represents the integer 123.\n",
    "Incrementing by one gives 123 + 1 = 124.\n",
    "Thus, the result should be [1,2,4].\n",
    "\n",
    "-------------\n",
    "\n",
    "Input: digits = [9]\n",
    "\n",
    "Output: [1,0]\n",
    "\n",
    "Explanation: The array represents the integer 9.\n",
    "Incrementing by one gives 9 + 1 = 10.\n",
    "Thus, the result should be [1,0]."
   ]
  },
  {
   "cell_type": "markdown",
   "id": "d82c35e3",
   "metadata": {},
   "source": [
    "## Solution\n",
    "\n",
    "idea\n",
    "- change to integer in order to calculate\n",
    "- change to string in order to join & split\n",
    "- use `map` function!!"
   ]
  },
  {
   "cell_type": "code",
   "execution_count": 38,
   "id": "a0cdb1df",
   "metadata": {},
   "outputs": [],
   "source": [
    "class Solution(object):\n",
    "    def plusOne(self, digits):\n",
    "        digits = list(map(str, digits))\n",
    "        digits = \"\".join(digits)\n",
    "        ans = int(digits) + 1\n",
    "        result = list(str(ans))\n",
    "        return list(map(int, result))"
   ]
  },
  {
   "cell_type": "code",
   "execution_count": 39,
   "id": "67202017",
   "metadata": {},
   "outputs": [
    {
     "data": {
      "text/plain": [
       "[1, 2, 4]"
      ]
     },
     "execution_count": 39,
     "metadata": {},
     "output_type": "execute_result"
    }
   ],
   "source": [
    "sol = Solution()\n",
    "sol.plusOne(digits)"
   ]
  },
  {
   "cell_type": "markdown",
   "id": "641db0ba",
   "metadata": {},
   "source": [
    "There was an error in the test case below when 'float' was used instead of 'integer'."
   ]
  },
  {
   "cell_type": "code",
   "execution_count": 40,
   "id": "e5d8aae9",
   "metadata": {},
   "outputs": [
    {
     "data": {
      "text/plain": [
       "[6, 1, 4, 5, 3, 9, 0, 1, 9, 5, 1, 8, 6, 7, 0, 5, 5, 4, 4]"
      ]
     },
     "execution_count": 40,
     "metadata": {},
     "output_type": "execute_result"
    }
   ],
   "source": [
    "sol.plusOne([6,1,4,5,3,9,0,1,9,5,1,8,6,7,0,5,5,4,3])  "
   ]
  },
  {
   "cell_type": "code",
   "execution_count": 1,
   "id": "0185d12c",
   "metadata": {},
   "outputs": [],
   "source": [
    "def plusOne(digits):\n",
    "    num = 0\n",
    "    for i in range(len(digits)):\n",
    "        num += digits[i] * pow(10, (len(digits)-1-i))\n",
    "    return [int(i) for i in str(num+1)]"
   ]
  },
  {
   "cell_type": "code",
   "execution_count": null,
   "id": "716aa870",
   "metadata": {},
   "outputs": [],
   "source": [
    "class Solution(object):\n",
    "    def plusOne(self, digits):\n",
    "        # Adjusting an array of digits into an integer\n",
    "        digits_integer = int(''.join(map(str,digits)))\n",
    "        digits_integer +=1\n",
    "        # Adjusting back an integer into an array of digits after plus 1\n",
    "        return [int(x) for x in str(digits_integer)]"
   ]
  }
 ],
 "metadata": {
  "kernelspec": {
   "display_name": "Python 3 (ipykernel)",
   "language": "python",
   "name": "python3"
  },
  "language_info": {
   "codemirror_mode": {
    "name": "ipython",
    "version": 3
   },
   "file_extension": ".py",
   "mimetype": "text/x-python",
   "name": "python",
   "nbconvert_exporter": "python",
   "pygments_lexer": "ipython3",
   "version": "3.9.7"
  }
 },
 "nbformat": 4,
 "nbformat_minor": 5
}
