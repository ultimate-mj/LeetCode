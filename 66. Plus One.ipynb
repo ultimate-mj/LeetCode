{
 "cells": [
  {
   "cell_type": "markdown",
   "id": "65fc0902",
   "metadata": {},
   "source": [
    "# 66. Plus One\n",
    "\n",
    "## Question\n",
    "\n",
    "You are given a large integer represented as an integer array digits, where each digits[i] is the ith digit of the integer. The digits are ordered from most significant to least significant in left-to-right order. The large integer does not contain any leading 0's.\n",
    "\n",
    "Increment the large integer by one and return the resulting array of digits.\n",
    "\n",
    "## Example\n",
    "\n",
    "Input: digits = [1,2,3]\n",
    "\n",
    "Output: [1,2,4]\n",
    "\n",
    "Explanation: The array represents the integer 123.\n",
    "Incrementing by one gives 123 + 1 = 124.\n",
    "Thus, the result should be [1,2,4].\n",
    "\n",
    "-------------\n",
    "\n",
    "Input: digits = [9]\n",
    "\n",
    "Output: [1,0]\n",
    "\n",
    "Explanation: The array represents the integer 9.\n",
    "Incrementing by one gives 9 + 1 = 10.\n",
    "Thus, the result should be [1,0]."
   ]
  },
  {
   "cell_type": "markdown",
   "id": "d82c35e3",
   "metadata": {},
   "source": [
    "## Solution 1.\n",
    "\n",
    "`12ms, beats 95.65%` `13.3MB, beats 77.46%`\n",
    "\n",
    "idea:\n",
    "- change to integer in order to calculate\n",
    "- change to string in order to join & split\n",
    "- use `map` function!!"
   ]
  },
  {
   "cell_type": "code",
   "execution_count": 8,
   "id": "a0cdb1df",
   "metadata": {},
   "outputs": [],
   "source": [
    "class Solution(object):\n",
    "    def plusOne(self, digits):\n",
    "        digits = list(map(str, digits))\n",
    "        digits = \"\".join(digits)\n",
    "        ans = int(digits) + 1\n",
    "        result = list(str(ans))\n",
    "        return list(map(int, result))"
   ]
  },
  {
   "cell_type": "code",
   "execution_count": 9,
   "id": "3ddf2f73",
   "metadata": {},
   "outputs": [
    {
     "name": "stdout",
     "output_type": "stream",
     "text": [
      "<map object at 0x000001DBA32AEE80>\n"
     ]
    }
   ],
   "source": [
    "digits = [2, 3, 4]\n",
    "print(map(str, digits))"
   ]
  },
  {
   "cell_type": "code",
   "execution_count": 10,
   "id": "67202017",
   "metadata": {},
   "outputs": [
    {
     "data": {
      "text/plain": [
       "[3, 5, 0]"
      ]
     },
     "execution_count": 10,
     "metadata": {},
     "output_type": "execute_result"
    }
   ],
   "source": [
    "sol = Solution()\n",
    "sol.plusOne([3,4,9])"
   ]
  },
  {
   "cell_type": "markdown",
   "id": "641db0ba",
   "metadata": {},
   "source": [
    "There was an error in the test case below when 'float' was used instead of 'integer'."
   ]
  },
  {
   "cell_type": "code",
   "execution_count": 9,
   "id": "e5d8aae9",
   "metadata": {},
   "outputs": [
    {
     "data": {
      "text/plain": [
       "[6, 1, 4, 5, 3, 9, 0, 1, 9, 5, 1, 8, 6, 7, 0, 5, 5, 4, 4]"
      ]
     },
     "execution_count": 9,
     "metadata": {},
     "output_type": "execute_result"
    }
   ],
   "source": [
    "sol.plusOne([6,1,4,5,3,9,0,1,9,5,1,8,6,7,0,5,5,4,3])  "
   ]
  },
  {
   "cell_type": "markdown",
   "id": "feb4dec9",
   "metadata": {},
   "source": [
    "## Solution 2. \n",
    "`29ms` `13.4MB`\n",
    "\n",
    "This is a similar solution, but little slower. \n",
    "- use `join` directly to `map`\n",
    "- use list comprehension\n"
   ]
  },
  {
   "cell_type": "code",
   "execution_count": null,
   "id": "72518ae3",
   "metadata": {},
   "outputs": [],
   "source": [
    "class Solution(object):\n",
    "    def plusOne(self, digits):\n",
    "        # When you join, you don't have to make it into a list\n",
    "        digits_integer = int(''.join(map(str,digits))) \n",
    "        digits_integer +=1\n",
    "        return [int(x) for x in str(digits_integer)]  # use list comprehension"
   ]
  },
  {
   "cell_type": "markdown",
   "id": "1e6e14ed",
   "metadata": {},
   "source": [
    "## Solution 3.\n",
    "`17ms` `13.6MB`\n",
    "\n",
    "This solution uses a loop. \n",
    "\n",
    "idea:\n",
    "- make into integer by multiplying power of 10"
   ]
  },
  {
   "cell_type": "code",
   "execution_count": 1,
   "id": "be127697",
   "metadata": {},
   "outputs": [],
   "source": [
    "def plusOne(digits):\n",
    "    num = 0\n",
    "    for i in range(len(digits)):\n",
    "        num += digits[i] * pow(10, (len(digits)-1-i))  \n",
    "    return [int(i) for i in str(num+1)]"
   ]
  },
  {
   "cell_type": "code",
   "execution_count": 58,
   "id": "06eece17",
   "metadata": {},
   "outputs": [
    {
     "data": {
      "text/plain": [
       "100"
      ]
     },
     "execution_count": 58,
     "metadata": {},
     "output_type": "execute_result"
    }
   ],
   "source": [
    "digits = [1,2,3]\n",
    "pow(10, len(digits)-1)"
   ]
  },
  {
   "cell_type": "code",
   "execution_count": 59,
   "id": "d6aff6f4",
   "metadata": {},
   "outputs": [
    {
     "data": {
      "text/plain": [
       "[1, 2, 4]"
      ]
     },
     "execution_count": 59,
     "metadata": {},
     "output_type": "execute_result"
    }
   ],
   "source": [
    "plusOne(digits)"
   ]
  },
  {
   "cell_type": "markdown",
   "id": "9beab29d",
   "metadata": {},
   "source": [
    "-----------\n",
    "\n",
    "# Useful concepts\n",
    "\n",
    "\n",
    "## 1. `map(function, iterable)`\n",
    "\n",
    "You can use `map` in \n",
    "- list\n",
    "- tuple\n",
    "- all repeatable objects\n",
    "    + ex) `range`\n",
    "    \n",
    "`map` returns in the form of 'map object'. Thus, you have to **change the type to list or tuple**"
   ]
  },
  {
   "cell_type": "code",
   "execution_count": 23,
   "id": "4765cc19",
   "metadata": {},
   "outputs": [
    {
     "data": {
      "text/plain": [
       "['0', '1', '2', '3', '4', '5', '6', '7', '8', '9']"
      ]
     },
     "execution_count": 23,
     "metadata": {},
     "output_type": "execute_result"
    }
   ],
   "source": [
    "# Example\n",
    "a = list(map(str, range(10)))\n",
    "a"
   ]
  },
  {
   "cell_type": "markdown",
   "id": "9c108e76",
   "metadata": {},
   "source": [
    "## 2. `separator.join(list/tuple/map)`\n",
    "\n",
    "Conditions to be careful:\n",
    "- You have to give a **separator**\n",
    "    + If you don't want any separator, just put \"\" before the join function\n",
    "    \n",
    "\n",
    "- `.join` function applies to only **string** type objects\n",
    "    + If you want to join integers, change to strings in advance\n",
    "    + This is valid also to tuple and map"
   ]
  },
  {
   "cell_type": "code",
   "execution_count": 46,
   "id": "71bab4db",
   "metadata": {},
   "outputs": [
    {
     "ename": "SyntaxError",
     "evalue": "invalid syntax (Temp/ipykernel_10480/3904487164.py, line 1)",
     "output_type": "error",
     "traceback": [
      "\u001b[1;36m  File \u001b[1;32m\"C:\\Users\\1\\AppData\\Local\\Temp/ipykernel_10480/3904487164.py\"\u001b[1;36m, line \u001b[1;32m1\u001b[0m\n\u001b[1;33m    .join(['1','2']) # Error: No separator\u001b[0m\n\u001b[1;37m    ^\u001b[0m\n\u001b[1;31mSyntaxError\u001b[0m\u001b[1;31m:\u001b[0m invalid syntax\n"
     ]
    }
   ],
   "source": [
    ".join(['1','2']) # Error: No separator"
   ]
  },
  {
   "cell_type": "code",
   "execution_count": 47,
   "id": "f2581026",
   "metadata": {},
   "outputs": [
    {
     "data": {
      "text/plain": [
       "'12'"
      ]
     },
     "execution_count": 47,
     "metadata": {},
     "output_type": "execute_result"
    }
   ],
   "source": [
    "\"\".join(['1', '2'])"
   ]
  },
  {
   "cell_type": "code",
   "execution_count": 48,
   "id": "9900c4f5",
   "metadata": {},
   "outputs": [
    {
     "ename": "TypeError",
     "evalue": "sequence item 0: expected str instance, int found",
     "output_type": "error",
     "traceback": [
      "\u001b[1;31m---------------------------------------------------------------------------\u001b[0m",
      "\u001b[1;31mTypeError\u001b[0m                                 Traceback (most recent call last)",
      "\u001b[1;32m~\\AppData\\Local\\Temp/ipykernel_10480/3401176870.py\u001b[0m in \u001b[0;36m<module>\u001b[1;34m\u001b[0m\n\u001b[1;32m----> 1\u001b[1;33m \u001b[1;34m\"\"\u001b[0m\u001b[1;33m.\u001b[0m\u001b[0mjoin\u001b[0m\u001b[1;33m(\u001b[0m\u001b[1;33m[\u001b[0m\u001b[1;36m1\u001b[0m\u001b[1;33m,\u001b[0m \u001b[1;36m2\u001b[0m\u001b[1;33m]\u001b[0m\u001b[1;33m)\u001b[0m \u001b[1;31m# Error: Not string\u001b[0m\u001b[1;33m\u001b[0m\u001b[1;33m\u001b[0m\u001b[0m\n\u001b[0m",
      "\u001b[1;31mTypeError\u001b[0m: sequence item 0: expected str instance, int found"
     ]
    }
   ],
   "source": [
    "\"\".join([1, 2]) # Error: Not string"
   ]
  },
  {
   "cell_type": "code",
   "execution_count": 49,
   "id": "d8fc1006",
   "metadata": {},
   "outputs": [
    {
     "data": {
      "text/plain": [
       "'12'"
      ]
     },
     "execution_count": 49,
     "metadata": {},
     "output_type": "execute_result"
    }
   ],
   "source": [
    "\"\".join(map(str, [1, 2])) # Change integer to string -> Then apply `join`"
   ]
  },
  {
   "cell_type": "code",
   "execution_count": 50,
   "id": "986a61e8",
   "metadata": {},
   "outputs": [
    {
     "data": {
      "text/plain": [
       "'12'"
      ]
     },
     "execution_count": 50,
     "metadata": {},
     "output_type": "execute_result"
    }
   ],
   "source": [
    "\"\".join(tuple(('1','2')))  # Works also to tuple"
   ]
  },
  {
   "cell_type": "code",
   "execution_count": 45,
   "id": "a9a92142",
   "metadata": {},
   "outputs": [
    {
     "data": {
      "text/plain": [
       "'12'"
      ]
     },
     "execution_count": 45,
     "metadata": {},
     "output_type": "execute_result"
    }
   ],
   "source": [
    "\"\".join(map(str, [1,2]))  # Works also to map"
   ]
  }
 ],
 "metadata": {
  "kernelspec": {
   "display_name": "Python 3 (ipykernel)",
   "language": "python",
   "name": "python3"
  },
  "language_info": {
   "codemirror_mode": {
    "name": "ipython",
    "version": 3
   },
   "file_extension": ".py",
   "mimetype": "text/x-python",
   "name": "python",
   "nbconvert_exporter": "python",
   "pygments_lexer": "ipython3",
   "version": "3.9.7"
  }
 },
 "nbformat": 4,
 "nbformat_minor": 5
}
