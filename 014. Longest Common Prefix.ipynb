{
 "cells": [
  {
   "cell_type": "markdown",
   "id": "07796b5b",
   "metadata": {},
   "source": [
    "# 14. Longest Common Prefix"
   ]
  },
  {
   "cell_type": "markdown",
   "id": "ef60910b",
   "metadata": {},
   "source": [
    "Write a function to find the longest common prefix string amongst an array of strings.\n",
    "\n",
    "If there is no common prefix, return an empty string \"\".\n",
    "\n",
    "### Example 1:\n",
    "\n",
    "Input: strs = [\"flower\",\"flow\",\"flight\"]\n",
    "\n",
    "Output: \"fl\""
   ]
  },
  {
   "cell_type": "markdown",
   "id": "ea1ee1c2",
   "metadata": {},
   "source": [
    "## Solution"
   ]
  },
  {
   "cell_type": "code",
   "execution_count": 2,
   "id": "6caecf8a",
   "metadata": {},
   "outputs": [],
   "source": [
    "def longestCommonPrefix(strs):\n",
    "    strs.sort(key = lambda x: len(x))  #원소의 길이를 기준으로 sort\n",
    "    \n",
    "    if len(strs) == 0:\n",
    "        return \"\"\n",
    "    else:\n",
    "        for i in range(len(strs[0])):  #r가장 짧은 원소를 기준으로\n",
    "            for j in range(1, len(strs)):\n",
    "                if strs[0][i] != strs[j][i]:  #다른 알파벳이 있다면\n",
    "                    return strs[0][:i]  #다른 원소 전까지 return\n",
    "        return strs[0]"
   ]
  },
  {
   "cell_type": "code",
   "execution_count": 4,
   "id": "ddfef311",
   "metadata": {},
   "outputs": [
    {
     "data": {
      "text/plain": [
       "'fl'"
      ]
     },
     "execution_count": 4,
     "metadata": {},
     "output_type": "execute_result"
    }
   ],
   "source": [
    "strs = [\"flower\",\"flow\",\"flight\"]\n",
    "\n",
    "longestCommonPrefix(strs)"
   ]
  },
  {
   "cell_type": "markdown",
   "id": "bd1e8982",
   "metadata": {},
   "source": [
    "위의 풀이가 가능한 이유:\n",
    "- 'prefix'이기 때문: 앞에서부터 찾아가면 됨!"
   ]
  },
  {
   "cell_type": "markdown",
   "id": "237d4453",
   "metadata": {},
   "source": [
    "## 서연 solution"
   ]
  },
  {
   "cell_type": "code",
   "execution_count": 5,
   "id": "45e9c255",
   "metadata": {},
   "outputs": [],
   "source": [
    "list = ['flower', 'flight']"
   ]
  },
  {
   "cell_type": "code",
   "execution_count": 8,
   "id": "0f10e8cd",
   "metadata": {},
   "outputs": [
    {
     "ename": "TypeError",
     "evalue": "'list' object is not callable",
     "output_type": "error",
     "traceback": [
      "\u001b[1;31m---------------------------------------------------------------------------\u001b[0m",
      "\u001b[1;31mTypeError\u001b[0m                                 Traceback (most recent call last)",
      "\u001b[1;32m~\\AppData\\Local\\Temp/ipykernel_33132/3434743523.py\u001b[0m in \u001b[0;36m<module>\u001b[1;34m\u001b[0m\n\u001b[1;32m----> 1\u001b[1;33m \u001b[0mlist\u001b[0m\u001b[1;33m(\u001b[0m\u001b[0mzip\u001b[0m\u001b[1;33m(\u001b[0m\u001b[1;33m*\u001b[0m\u001b[0mlist\u001b[0m\u001b[1;33m)\u001b[0m\u001b[1;33m)\u001b[0m\u001b[1;33m\u001b[0m\u001b[1;33m\u001b[0m\u001b[0m\n\u001b[0m",
      "\u001b[1;31mTypeError\u001b[0m: 'list' object is not callable"
     ]
    }
   ],
   "source": [
    "list(zip(*list))"
   ]
  },
  {
   "cell_type": "markdown",
   "id": "6c5ce57b",
   "metadata": {},
   "source": [
    "- *\n",
    "- zip은 튜플로 묶어준다 (가장 작은 길이 기준으로)"
   ]
  },
  {
   "cell_type": "code",
   "execution_count": null,
   "id": "94648746",
   "metadata": {},
   "outputs": [],
   "source": []
  }
 ],
 "metadata": {
  "kernelspec": {
   "display_name": "Python 3 (ipykernel)",
   "language": "python",
   "name": "python3"
  },
  "language_info": {
   "codemirror_mode": {
    "name": "ipython",
    "version": 3
   },
   "file_extension": ".py",
   "mimetype": "text/x-python",
   "name": "python",
   "nbconvert_exporter": "python",
   "pygments_lexer": "ipython3",
   "version": "3.9.7"
  }
 },
 "nbformat": 4,
 "nbformat_minor": 5
}
