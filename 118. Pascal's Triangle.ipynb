{
 "cells": [
  {
   "attachments": {
    "image-2.png": {
     "image/png": "[encoded data removed]"
    }
   },
   "cell_type": "markdown",
   "id": "52714707",
   "metadata": {},
   "source": [
    "# 118. Pascal's Triangle\n",
    "\n",
    "## Question.\n",
    "\n",
    "Given an integer numRows, return the first numRows of Pascal's triangle.\n",
    "\n",
    "In Pascal's triangle, each number is the sum of the two numbers directly above it as shown:\n",
    "\n",
    "![image-2.png](attachment:image-2.png)\n",
    "\n",
    "## Example.\n",
    "\n",
    "Input: numRows = 5\n",
    "\n",
    "Output: [[1],[1,1],[1,2,1],[1,3,3,1],[1,4,6,4,1]]"
   ]
  },
  {
   "cell_type": "markdown",
   "id": "cc8e1185",
   "metadata": {},
   "source": [
    "## My Solution.\n",
    "\n",
    "`Runtime 16ms Beats 86.65%` `Memory 13.3MB Beats 92.88%`\n",
    "\n",
    "idea:\n",
    "\n",
    "- Use loop\n",
    "    - for each row (i)\n",
    "    - for each element (j)\n",
    "\n",
    "\n",
    "- Use .insert\n",
    "    - Refer to `structures/array/programmers/2.Linear arrays`\n",
    "    - `insert(index, element)`\n",
    "    - It changes the array\n",
    " \n",
    "\n",
    "- range(0), range(-1) don't activate\n",
    "    - Thus, you don't need the `if` condition\n",
    "    - This is **different from R**"
   ]
  },
  {
   "cell_type": "code",
   "execution_count": 113,
   "id": "596d6290",
   "metadata": {},
   "outputs": [],
   "source": [
    "class Solution(object):\n",
    "    def generate(self, numRows):\n",
    "        sol = [[1]]\n",
    "        for i in range(numRows-1):  #ith row\n",
    "            sol += [[1,1]]\n",
    "            # `if i >= 1:` NO NEED\n",
    "            for j in range(i):  #jth element\n",
    "                sol[i+1].insert(j+1, sol[i][j] + sol[i][j+1])\n",
    "        return sol\n",
    "    \n",
    "        \n",
    "        \"\"\"\n",
    "        :type numRows: int\n",
    "        :rtype: List[List[int]]\n",
    "        \"\"\""
   ]
  }
 ],
 "metadata": {
  "kernelspec": {
   "display_name": "Python 3 (ipykernel)",
   "language": "python",
   "name": "python3"
  },
  "language_info": {
   "codemirror_mode": {
    "name": "ipython",
    "version": 3
   },
   "file_extension": ".py",
   "mimetype": "text/x-python",
   "name": "python",
   "nbconvert_exporter": "python",
   "pygments_lexer": "ipython3",
   "version": "3.9.7"
  }
 },
 "nbformat": 4,
 "nbformat_minor": 5
}
