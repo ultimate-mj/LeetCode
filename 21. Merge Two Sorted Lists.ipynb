{
 "cells": [
  {
   "cell_type": "markdown",
   "id": "1f4f583f",
   "metadata": {},
   "source": [
    "# 21. Merge Two Sorted Lists\n",
    "\n",
    "## Q.\n",
    "You are given the heads of two sorted linked lists list1 and list2.\n",
    "\n",
    "Merge the two lists in a one sorted list. The list should be made by splicing together the nodes of the first two lists.\n",
    "\n",
    "Return the head of the merged linked list.\n",
    "\n",
    "### Constraints:\n",
    "\n",
    "- The number of nodes in both lists is in the range [0, 50].\n",
    "- -100 <= Node.val <= 100\n",
    "- Both list1 and list2 are sorted in **non-decreasing** order.\n",
    "\n",
    "## Example\n",
    "\n",
    "- 1. \n",
    "\n",
    "Input: list1 = [1,2,4], list2 = [1,3,4]\n",
    "\n",
    "Output: [1,1,2,3,4,4]\n",
    "\n",
    "- 2.\n",
    "\n",
    "Input: list1 = [], list2 = []\n",
    "\n",
    "Output: []\n",
    "\n",
    "- 3.\n",
    "\n",
    "Input: list1 = [], list2 = [0]\n",
    "\n",
    "Output: [0]"
   ]
  },
  {
   "cell_type": "markdown",
   "id": "5e006e69",
   "metadata": {},
   "source": [
    "## My Solution : error\n",
    "\n",
    "idea:\n",
    "- use linked list methods\n",
    "- use 'insertAfter' (because I couldn't find any sorting methods)"
   ]
  },
  {
   "cell_type": "code",
   "execution_count": 12,
   "id": "17127828",
   "metadata": {},
   "outputs": [],
   "source": [
    "#Definition for singly-linked list.\n",
    "class ListNode(object):\n",
    "    def __init__(self, val=0, next=None):\n",
    "        self.val = val\n",
    "        self.next = next"
   ]
  },
  {
   "cell_type": "code",
   "execution_count": 13,
   "id": "84536bfd",
   "metadata": {},
   "outputs": [],
   "source": [
    "def mergeTwoLists(list1, list2):\n",
    "    def insertAfter(prev, newNode):   #prev = Node(3) 처럼 노드로 정의됨!\n",
    "        newNode.next = prev.next  \n",
    "        if prev.next is None:  \n",
    "            self.tail = newNode   \n",
    "        prev.next = newNode       \n",
    "        self.nodeCount += 1\n",
    "        return True\n",
    "    \n",
    "    for i in list2:  #이게 가능한지도 확인 필요\n",
    "        for j, x in enumerate(list1):\n",
    "            if i <= x:\n",
    "                insertAfter(list1[j-1], i)\n",
    "            else:\n",
    "                pass\n",
    "    return list1"
   ]
  },
  {
   "cell_type": "code",
   "execution_count": 16,
   "id": "e498b700",
   "metadata": {},
   "outputs": [
    {
     "ename": "TypeError",
     "evalue": "'ListNode' object is not iterable",
     "output_type": "error",
     "traceback": [
      "\u001b[1;31m---------------------------------------------------------------------------\u001b[0m",
      "\u001b[1;31mTypeError\u001b[0m                                 Traceback (most recent call last)",
      "\u001b[1;32m~\\AppData\\Local\\Temp/ipykernel_24260/66518681.py\u001b[0m in \u001b[0;36m<module>\u001b[1;34m\u001b[0m\n\u001b[0;32m      2\u001b[0m \u001b[0mlist2\u001b[0m \u001b[1;33m=\u001b[0m \u001b[0mListNode\u001b[0m\u001b[1;33m(\u001b[0m\u001b[1;36m1\u001b[0m\u001b[1;33m,\u001b[0m \u001b[1;36m4\u001b[0m\u001b[1;33m)\u001b[0m\u001b[1;33m\u001b[0m\u001b[1;33m\u001b[0m\u001b[0m\n\u001b[0;32m      3\u001b[0m \u001b[1;33m\u001b[0m\u001b[0m\n\u001b[1;32m----> 4\u001b[1;33m \u001b[0mmergeTwoLists\u001b[0m\u001b[1;33m(\u001b[0m\u001b[0mlist1\u001b[0m\u001b[1;33m,\u001b[0m \u001b[0mlist2\u001b[0m\u001b[1;33m)\u001b[0m\u001b[1;33m\u001b[0m\u001b[1;33m\u001b[0m\u001b[0m\n\u001b[0m",
      "\u001b[1;32m~\\AppData\\Local\\Temp/ipykernel_24260/2766467481.py\u001b[0m in \u001b[0;36mmergeTwoLists\u001b[1;34m(list1, list2)\u001b[0m\n\u001b[0;32m      7\u001b[0m         \u001b[0mself\u001b[0m\u001b[1;33m.\u001b[0m\u001b[0mnodeCount\u001b[0m \u001b[1;33m+=\u001b[0m \u001b[1;36m1\u001b[0m\u001b[1;33m\u001b[0m\u001b[1;33m\u001b[0m\u001b[0m\n\u001b[0;32m      8\u001b[0m         \u001b[1;32mreturn\u001b[0m \u001b[1;32mTrue\u001b[0m\u001b[1;33m\u001b[0m\u001b[1;33m\u001b[0m\u001b[0m\n\u001b[1;32m----> 9\u001b[1;33m     \u001b[1;32mfor\u001b[0m \u001b[0mi\u001b[0m \u001b[1;32min\u001b[0m \u001b[0mlist2\u001b[0m\u001b[1;33m:\u001b[0m\u001b[1;33m\u001b[0m\u001b[1;33m\u001b[0m\u001b[0m\n\u001b[0m\u001b[0;32m     10\u001b[0m         \u001b[1;32mfor\u001b[0m \u001b[0mj\u001b[0m\u001b[1;33m,\u001b[0m \u001b[0mx\u001b[0m \u001b[1;32min\u001b[0m \u001b[0menumerate\u001b[0m\u001b[1;33m(\u001b[0m\u001b[0mlist1\u001b[0m\u001b[1;33m)\u001b[0m\u001b[1;33m:\u001b[0m\u001b[1;33m\u001b[0m\u001b[1;33m\u001b[0m\u001b[0m\n\u001b[0;32m     11\u001b[0m             \u001b[1;32mif\u001b[0m \u001b[0mi\u001b[0m \u001b[1;33m<=\u001b[0m \u001b[0mx\u001b[0m\u001b[1;33m:\u001b[0m\u001b[1;33m\u001b[0m\u001b[1;33m\u001b[0m\u001b[0m\n",
      "\u001b[1;31mTypeError\u001b[0m: 'ListNode' object is not iterable"
     ]
    }
   ],
   "source": [
    "list1 = ListNode(1, 2)\n",
    "list2 = ListNode(1, 4)\n",
    "\n",
    "mergeTwoLists(list1, list2)"
   ]
  },
  {
   "cell_type": "markdown",
   "id": "41b9a4f0",
   "metadata": {},
   "source": [
    "## Other's solution 1."
   ]
  },
  {
   "cell_type": "markdown",
   "id": "b39083f0",
   "metadata": {},
   "source": [
    "- Just look at the head!! (don't have to sort everything)"
   ]
  },
  {
   "cell_type": "code",
   "execution_count": 28,
   "id": "6cb91844",
   "metadata": {},
   "outputs": [],
   "source": [
    "def mergeTwoLists(l1, l2):\n",
    "    head = ListNode(-1)\n",
    "    cursor = head\n",
    "    \n",
    "    while l1 != None and l2 != None:\n",
    "        if l1.val <= l2.val:\n",
    "            cursor.next = l1\n",
    "            l1 = l1.next\n",
    "        else:\n",
    "            cursor.next = l2\n",
    "            l2 = l2.next\n",
    "            \n",
    "        cursor = cursor.next\n",
    "        \n",
    "    #at least one list is 'None'\n",
    "    if l1 != None:\n",
    "        cursor.next = l1\n",
    "    else:\n",
    "        cursor.next = l2\n",
    "    \n",
    "    return head.next"
   ]
  },
  {
   "cell_type": "code",
   "execution_count": null,
   "id": "dc7ca471",
   "metadata": {},
   "outputs": [],
   "source": []
  },
  {
   "cell_type": "markdown",
   "id": "8e9c6506",
   "metadata": {},
   "source": [
    "https://www.geeksforgeeks.org/merge-two-sorted-linked-lists/"
   ]
  },
  {
   "cell_type": "code",
   "execution_count": null,
   "id": "6c9edc64",
   "metadata": {},
   "outputs": [],
   "source": []
  }
 ],
 "metadata": {
  "kernelspec": {
   "display_name": "Python 3 (ipykernel)",
   "language": "python",
   "name": "python3"
  },
  "language_info": {
   "codemirror_mode": {
    "name": "ipython",
    "version": 3
   },
   "file_extension": ".py",
   "mimetype": "text/x-python",
   "name": "python",
   "nbconvert_exporter": "python",
   "pygments_lexer": "ipython3",
   "version": "3.9.7"
  }
 },
 "nbformat": 4,
 "nbformat_minor": 5
}
