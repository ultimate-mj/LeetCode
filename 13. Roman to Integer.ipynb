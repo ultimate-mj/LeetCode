{
 "cells": [
  {
   "cell_type": "markdown",
   "id": "b3cbfa42",
   "metadata": {},
   "source": [
    "# 13. Roman to Integer"
   ]
  },
  {
   "cell_type": "markdown",
   "id": "26acb825",
   "metadata": {},
   "source": [
    "## Level: easy\n",
    "\n",
    "## Q.\n",
    "Roman numerals are represented by seven different symbols: I, V, X, L, C, D and M.\n",
    "\n",
    "Symbol       Value\n",
    "\n",
    "I             1\n",
    "\n",
    "V             5\n",
    "\n",
    "X             10\n",
    "\n",
    "L             50\n",
    "\n",
    "C             100\n",
    "\n",
    "D             500\n",
    "\n",
    "M             1000\n",
    "\n",
    "For example, 2 is written as II in Roman numeral, just two ones added together. 12 is written as XII, which is simply X + II. The number 27 is written as XXVII, which is XX + V + II.\n",
    "\n",
    "Roman numerals are usually written largest to smallest from left to right. However, the numeral for four is not IIII. Instead, the number four is written as IV. Because the one is before the five we subtract it making four. The same principle applies to the number nine, which is written as IX. There are six instances where subtraction is used:\n",
    "\n",
    "I can be placed before V (5) and X (10) to make 4 and 9. \n",
    "X can be placed before L (50) and C (100) to make 40 and 90. \n",
    "C can be placed before D (500) and M (1000) to make 400 and 900."
   ]
  },
  {
   "cell_type": "markdown",
   "id": "c417c1fc",
   "metadata": {},
   "source": [
    "## Example\n",
    "\n",
    "Input: s = \"III\"\n",
    "\n",
    "Output: 3\n",
    "\n",
    "Explanation: III = 3.\n",
    "\n",
    "----\n",
    "\n",
    "Input: s = \"MCMXCIV\"\n",
    "\n",
    "Output: 1994\n",
    "\n",
    "Explanation: M = 1000, CM = 900, XC = 90 and IV = 4."
   ]
  },
  {
   "cell_type": "markdown",
   "id": "9331ce8e",
   "metadata": {},
   "source": [
    "## Solution"
   ]
  },
  {
   "cell_type": "markdown",
   "id": "32dce7dd",
   "metadata": {},
   "source": [
    "idea:\n",
    "- use dictionary!!\n",
    "- use key to get values back\n",
    "- last alphabet must be added in in the end"
   ]
  },
  {
   "cell_type": "code",
   "execution_count": 13,
   "id": "e1fcda33",
   "metadata": {},
   "outputs": [],
   "source": [
    "class Solution(object):\n",
    "    def romanToInt(self, s):\n",
    "        roman = {'I': 1, 'V': 5, 'X': 10, 'L':50, 'C':100, 'D': 500, 'M': 1000}\n",
    "        answer = 0\n",
    "        \n",
    "        for i in range(len(s)-1):\n",
    "            if roman[s[i]] < roman[s[i+1]]:\n",
    "                answer -= roman[s[i]]\n",
    "            else:\n",
    "                answer += roman[s[i]]\n",
    "        return answer + roman[s[-1]]"
   ]
  },
  {
   "cell_type": "code",
   "execution_count": 3,
   "id": "d09c93a3",
   "metadata": {},
   "outputs": [
    {
     "data": {
      "text/plain": [
       "1994"
      ]
     },
     "execution_count": 3,
     "metadata": {},
     "output_type": "execute_result"
    }
   ],
   "source": [
    "sol = Solution()\n",
    "\n",
    "s = 'MCMXCIV'\n",
    "\n",
    "sol.romanToInt(s)"
   ]
  },
  {
   "cell_type": "markdown",
   "id": "6f512f7f",
   "metadata": {},
   "source": [
    "# How to use Dictionary\n",
    "\n",
    "To get the value back, you have to put the **key** in, not the location"
   ]
  },
  {
   "cell_type": "code",
   "execution_count": 5,
   "id": "a4a76aae",
   "metadata": {},
   "outputs": [],
   "source": [
    "roman = {'I': 1, 'V': 5, 'X': 10, 'L':50, 'C':100, 'D': 500, 'M': 1000}"
   ]
  },
  {
   "cell_type": "code",
   "execution_count": 10,
   "id": "34bbb210",
   "metadata": {},
   "outputs": [
    {
     "data": {
      "text/plain": [
       "10"
      ]
     },
     "execution_count": 10,
     "metadata": {},
     "output_type": "execute_result"
    }
   ],
   "source": [
    "roman['X']"
   ]
  },
  {
   "cell_type": "code",
   "execution_count": 12,
   "id": "7ffe0ba2",
   "metadata": {},
   "outputs": [
    {
     "ename": "KeyError",
     "evalue": "5",
     "output_type": "error",
     "traceback": [
      "\u001b[1;31m---------------------------------------------------------------------------\u001b[0m",
      "\u001b[1;31mKeyError\u001b[0m                                  Traceback (most recent call last)",
      "\u001b[1;32m~\\AppData\\Local\\Temp/ipykernel_11720/3359473352.py\u001b[0m in \u001b[0;36m<module>\u001b[1;34m\u001b[0m\n\u001b[1;32m----> 1\u001b[1;33m \u001b[0mroman\u001b[0m\u001b[1;33m[\u001b[0m\u001b[1;36m5\u001b[0m\u001b[1;33m]\u001b[0m\u001b[1;33m\u001b[0m\u001b[1;33m\u001b[0m\u001b[0m\n\u001b[0m",
      "\u001b[1;31mKeyError\u001b[0m: 5"
     ]
    }
   ],
   "source": [
    "roman[5]  #error"
   ]
  }
 ],
 "metadata": {
  "kernelspec": {
   "display_name": "Python 3 (ipykernel)",
   "language": "python",
   "name": "python3"
  },
  "language_info": {
   "codemirror_mode": {
    "name": "ipython",
    "version": 3
   },
   "file_extension": ".py",
   "mimetype": "text/x-python",
   "name": "python",
   "nbconvert_exporter": "python",
   "pygments_lexer": "ipython3",
   "version": "3.9.7"
  }
 },
 "nbformat": 4,
 "nbformat_minor": 5
}
