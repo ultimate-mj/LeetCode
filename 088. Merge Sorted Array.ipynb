{
 "cells": [
  {
   "cell_type": "markdown",
   "id": "a719eee2",
   "metadata": {},
   "source": [
    "# 88. Merge Sorted Array\n",
    "\n",
    "## Question. \n",
    "\n",
    "You are given two integer arrays `nums1` and `nums2`, sorted in non-decreasing order, and two integers `m` and `n`, representing the number of elements in `nums1` and `nums2` respectively.\n",
    "\n",
    "Merge `nums1` and `nums2` into a single array sorted in non-decreasing order.\n",
    "\n",
    "The final sorted array should not be returned by the function, but instead be stored inside the array `nums1`. To accommodate this, `nums1` has a length of `m + n`, where the first `m` elements denote the elements that should be merged, and the last `n` elements are set to 0 and should be ignored. `nums2` has a length of `n`.\n",
    "\n",
    "## Example.\n",
    "\n",
    "Input: nums1 = [1,2,3,0,0,0], m = 3, nums2 = [2,5,6], n = 3\n",
    "\n",
    "Output: [1,2,2,3,5,6]\n",
    "\n",
    "---\n",
    "Input: nums1 = [1], m = 1, nums2 = [], n = 0\n",
    "\n",
    "Output: [1]"
   ]
  },
  {
   "cell_type": "markdown",
   "id": "bf2c80e2",
   "metadata": {},
   "source": [
    "## My Solution.\n",
    "`Runtime 40ms` `Memory 14MB`\n",
    "\n",
    "idea\n",
    "- Use sort\n",
    "    + But you have to be careful so that `nums1` has length of `m+n`\n",
    "    + You shouldn't delete all 0's\n",
    "    + `nums1` and `nums2` are valid to the length of `m`, `n` respectively."
   ]
  },
  {
   "cell_type": "code",
   "execution_count": 124,
   "id": "13e7b308",
   "metadata": {},
   "outputs": [],
   "source": [
    "def merge(nums1, m, nums2, n):\n",
    "    while len(nums1) > m:\n",
    "        nums1.pop()\n",
    "    nums1 += nums2\n",
    "    nums1.sort()\n",
    "    return nums1"
   ]
  },
  {
   "cell_type": "code",
   "execution_count": 84,
   "id": "fe89c9a2",
   "metadata": {},
   "outputs": [],
   "source": [
    "## error: you shouldn't delete all 0's\n",
    "\n",
    "def merge(nums1, m, nums2, n):\n",
    "    nums1 += nums2\n",
    "    nums1.sort()\n",
    "    while 0 in nums1:\n",
    "        nums1.remove(0)\n",
    "    return nums1"
   ]
  },
  {
   "cell_type": "code",
   "execution_count": 119,
   "id": "0c62df28",
   "metadata": {},
   "outputs": [],
   "source": [
    "## Wrong Answer in test case 3\n",
    "## I don't know why. It seems correct here\n",
    "\n",
    "def merge(nums1, m, nums2, n):\n",
    "    nums1 = nums1[:m]\n",
    "    nums1 += nums2\n",
    "    nums1.sort()\n",
    "    return nums1"
   ]
  },
  {
   "cell_type": "code",
   "execution_count": 125,
   "id": "3bc8690c",
   "metadata": {},
   "outputs": [
    {
     "data": {
      "text/plain": [
       "[1]"
      ]
     },
     "execution_count": 125,
     "metadata": {},
     "output_type": "execute_result"
    }
   ],
   "source": [
    "merge([1], 1, [], 0)"
   ]
  },
  {
   "cell_type": "code",
   "execution_count": 126,
   "id": "39495f15",
   "metadata": {},
   "outputs": [
    {
     "data": {
      "text/plain": [
       "[1, 2, 2, 3, 5, 6]"
      ]
     },
     "execution_count": 126,
     "metadata": {},
     "output_type": "execute_result"
    }
   ],
   "source": [
    "merge([1, 2, 3, 0, 0, 0], 3, [2, 5, 6], 3)"
   ]
  },
  {
   "cell_type": "code",
   "execution_count": 127,
   "id": "8eec4c50",
   "metadata": {},
   "outputs": [
    {
     "data": {
      "text/plain": [
       "[-1, 0, 0, 1, 2, 2, 3, 3, 3]"
      ]
     },
     "execution_count": 127,
     "metadata": {},
     "output_type": "execute_result"
    }
   ],
   "source": [
    "merge([-1,0,0,3,3,3,0,0,0], 6, [1,2,2], 3)"
   ]
  },
  {
   "cell_type": "code",
   "execution_count": 128,
   "id": "adcf8868",
   "metadata": {},
   "outputs": [
    {
     "data": {
      "text/plain": [
       "[1, 2, 2, 3, 5, 6]"
      ]
     },
     "execution_count": 128,
     "metadata": {},
     "output_type": "execute_result"
    }
   ],
   "source": [
    "#test case 3\n",
    "\n",
    "merge([1,2,3,0,0,0], 3, [2,5,6], 3)"
   ]
  }
 ],
 "metadata": {
  "kernelspec": {
   "display_name": "Python 3 (ipykernel)",
   "language": "python",
   "name": "python3"
  },
  "language_info": {
   "codemirror_mode": {
    "name": "ipython",
    "version": 3
   },
   "file_extension": ".py",
   "mimetype": "text/x-python",
   "name": "python",
   "nbconvert_exporter": "python",
   "pygments_lexer": "ipython3",
   "version": "3.9.7"
  }
 },
 "nbformat": 4,
 "nbformat_minor": 5
}
