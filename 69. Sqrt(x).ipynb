{
 "cells": [
  {
   "cell_type": "markdown",
   "id": "66970f20",
   "metadata": {},
   "source": [
    "# 69. Sqrt(x)"
   ]
  },
  {
   "cell_type": "markdown",
   "id": "80cdbc54",
   "metadata": {},
   "source": [
    "## Question.\n",
    "Given a non-negative integer x, return the square root of x rounded down to the nearest integer. The returned integer should be non-negative as well.\n",
    "\n",
    "You must not use any built-in exponent function or operator.\n",
    "\n",
    "For example, do not use `pow(x, 0.5)` in c++ or `x ** 0.5` in python."
   ]
  },
  {
   "cell_type": "markdown",
   "id": "fb2971fc",
   "metadata": {},
   "source": [
    "## Example\n",
    "\n",
    "Input: x = 4\n",
    "\n",
    "Output: 2\n",
    "\n",
    "Explanation: The square root of 4 is 2, so we return 2.\n",
    "\n",
    "\n",
    "---\n",
    "Input: x = 8\n",
    "\n",
    "Output: 2\n",
    "\n",
    "Explanation: The square root of 8 is 2.82842..., and since we round it down to the nearest integer, 2 is returned."
   ]
  },
  {
   "cell_type": "markdown",
   "id": "a12eabb2",
   "metadata": {},
   "source": [
    "## Solution\n",
    "\n",
    "Point\n",
    "- use binary search\n",
    "    - code in `structures/searching/programmers/3.Searching`"
   ]
  },
  {
   "cell_type": "code",
   "execution_count": 9,
   "id": "59806e22",
   "metadata": {},
   "outputs": [],
   "source": [
    "def mySqrt(x):\n",
    "    lower = 0\n",
    "    upper = x\n",
    "    while lower <= upper:\n",
    "        middle = (lower + upper) // 2\n",
    "        if middle*middle == x:\n",
    "            return middle  \n",
    "        elif middle*middle < x:\n",
    "            lower = middle + 1  # +1 을 해야 함\n",
    "        else:\n",
    "            upper = middle - 1  # -1 을 해야 함\n",
    "  \n",
    "    return upper"
   ]
  },
  {
   "cell_type": "code",
   "execution_count": 11,
   "id": "49132d91",
   "metadata": {},
   "outputs": [
    {
     "data": {
      "text/plain": [
       "2"
      ]
     },
     "execution_count": 11,
     "metadata": {},
     "output_type": "execute_result"
    }
   ],
   "source": [
    "mySqrt(8)"
   ]
  }
 ],
 "metadata": {
  "kernelspec": {
   "display_name": "Python 3 (ipykernel)",
   "language": "python",
   "name": "python3"
  },
  "language_info": {
   "codemirror_mode": {
    "name": "ipython",
    "version": 3
   },
   "file_extension": ".py",
   "mimetype": "text/x-python",
   "name": "python",
   "nbconvert_exporter": "python",
   "pygments_lexer": "ipython3",
   "version": "3.9.7"
  }
 },
 "nbformat": 4,
 "nbformat_minor": 5
}
